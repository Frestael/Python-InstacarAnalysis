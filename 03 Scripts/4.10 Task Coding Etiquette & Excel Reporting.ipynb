{
 "cells": [
  {
   "cell_type": "markdown",
   "id": "290de134-7787-4c15-861a-b023f87e560c",
   "metadata": {},
   "source": [
    "# 4.10 Coding Etiquette & Excel Reporting"
   ]
  },
  {
   "cell_type": "markdown",
   "id": "6e16051f-aa33-4458-a223-95cc4e1b15c5",
   "metadata": {},
   "source": [
    "### This script contains the following points:\n",
    "\n",
    "#### 1. Import data sets\n",
    "#### 2. Security implications\n",
    "#### 3. Customer behavior in different geografic areas\n",
    "#### 4. Exclude low-activity customer\n",
    "#### 5. Customer profiling\n",
    "#### 6. Visualizations\n",
    "#### 7. Aggregate the max, mean, and min variables on a customer-profile level\n",
    "#### 8. Compare customer profiles with regions and departments\n",
    "#### 9. Export"
   ]
  },
  {
   "cell_type": "code",
   "execution_count": 65,
   "id": "a80840e6-c279-4d83-ab87-d12182354e91",
   "metadata": {},
   "outputs": [],
   "source": [
    "# Install data libraries\n",
    "import pandas as pd\n",
    "import numpy as np\n",
    "import os\n",
    "import matplotlib.pyplot as plt\n",
    "import seaborn as sns\n",
    "import scipy"
   ]
  },
  {
   "cell_type": "markdown",
   "id": "916b1acf-6619-4cf2-b244-aaaab2ec49ea",
   "metadata": {},
   "source": [
    "## 1. Import data sets"
   ]
  },
  {
   "cell_type": "code",
   "execution_count": 66,
   "id": "aed43cb9-38d3-44bc-9d79-94e23027f5c8",
   "metadata": {},
   "outputs": [],
   "source": [
    "# Tell Python to remember a main folder path\n",
    "path = r'C:\\Users\\Frederick\\Documents\\CareerFoundry\\CF - Data Analytics Immersion\\Achievement4\\04-2024 Instacart Basket Analysis'"
   ]
  },
  {
   "cell_type": "code",
   "execution_count": 67,
   "id": "b3672c72-4996-4123-a0ef-7b931b146992",
   "metadata": {},
   "outputs": [],
   "source": [
    "df_merged = pd.read_pickle(os.path.join(path, '02 Data', 'Prepared Data', 'orders_products_customers_merged.pkl'))"
   ]
  },
  {
   "cell_type": "markdown",
   "id": "e5e53836-a1be-436a-810e-bc9724767099",
   "metadata": {},
   "source": [
    "## 2. Security implications"
   ]
  },
  {
   "cell_type": "code",
   "execution_count": 68,
   "id": "c0d49e46-abbe-4cb3-881d-190f95b49b82",
   "metadata": {},
   "outputs": [
    {
     "data": {
      "text/html": [
       "<div>\n",
       "<style scoped>\n",
       "    .dataframe tbody tr th:only-of-type {\n",
       "        vertical-align: middle;\n",
       "    }\n",
       "\n",
       "    .dataframe tbody tr th {\n",
       "        vertical-align: top;\n",
       "    }\n",
       "\n",
       "    .dataframe thead th {\n",
       "        text-align: right;\n",
       "    }\n",
       "</style>\n",
       "<table border=\"1\" class=\"dataframe\">\n",
       "  <thead>\n",
       "    <tr style=\"text-align: right;\">\n",
       "      <th></th>\n",
       "      <th>product_id</th>\n",
       "      <th>product_name</th>\n",
       "      <th>aisle_id</th>\n",
       "      <th>department_id</th>\n",
       "      <th>prices</th>\n",
       "      <th>Unnamed: 0</th>\n",
       "      <th>order_id</th>\n",
       "      <th>user_id</th>\n",
       "      <th>order_number</th>\n",
       "      <th>orders_day_of_week</th>\n",
       "      <th>...</th>\n",
       "      <th>frequency_flag</th>\n",
       "      <th>first_name</th>\n",
       "      <th>surname</th>\n",
       "      <th>gender</th>\n",
       "      <th>state</th>\n",
       "      <th>age</th>\n",
       "      <th>date_joined</th>\n",
       "      <th>n_dependants</th>\n",
       "      <th>marital_status</th>\n",
       "      <th>income</th>\n",
       "    </tr>\n",
       "  </thead>\n",
       "  <tbody>\n",
       "    <tr>\n",
       "      <th>0</th>\n",
       "      <td>1</td>\n",
       "      <td>Chocolate Sandwich Cookies</td>\n",
       "      <td>61</td>\n",
       "      <td>19</td>\n",
       "      <td>5.8</td>\n",
       "      <td>186194</td>\n",
       "      <td>682486</td>\n",
       "      <td>11243</td>\n",
       "      <td>16</td>\n",
       "      <td>3</td>\n",
       "      <td>...</td>\n",
       "      <td>Frequent Customer</td>\n",
       "      <td>Robert</td>\n",
       "      <td>Herman</td>\n",
       "      <td>Male</td>\n",
       "      <td>Nevada</td>\n",
       "      <td>67</td>\n",
       "      <td>1/26/2017</td>\n",
       "      <td>3</td>\n",
       "      <td>married</td>\n",
       "      <td>58329</td>\n",
       "    </tr>\n",
       "  </tbody>\n",
       "</table>\n",
       "<p>1 rows × 35 columns</p>\n",
       "</div>"
      ],
      "text/plain": [
       "   product_id                product_name  aisle_id  department_id  prices  \\\n",
       "0           1  Chocolate Sandwich Cookies        61             19     5.8   \n",
       "\n",
       "   Unnamed: 0 order_id user_id  order_number  orders_day_of_week  ...  \\\n",
       "0      186194   682486   11243            16                   3  ...   \n",
       "\n",
       "      frequency_flag  first_name  surname  gender   state age date_joined  \\\n",
       "0  Frequent Customer      Robert   Herman    Male  Nevada  67   1/26/2017   \n",
       "\n",
       "  n_dependants marital_status income  \n",
       "0            3        married  58329  \n",
       "\n",
       "[1 rows x 35 columns]"
      ]
     },
     "execution_count": 68,
     "metadata": {},
     "output_type": "execute_result"
    }
   ],
   "source": [
    "df_merged.head(1)"
   ]
  },
  {
   "cell_type": "markdown",
   "id": "99779bab-7042-4539-a5c1-b55c497b5100",
   "metadata": {},
   "source": [
    "There are columns that refer to client first and surnames, as well as gender, state, age, family status and number of dependants. These columns are personally identifiable information (PII)."
   ]
  },
  {
   "cell_type": "code",
   "execution_count": 69,
   "id": "d5fbab45-adf7-4176-8e94-b4b249fdc359",
   "metadata": {},
   "outputs": [],
   "source": [
    "# Dropping personal information\n",
    "df_merged.drop(columns=['first_name','surname'], inplace= True)"
   ]
  },
  {
   "cell_type": "code",
   "execution_count": 70,
   "id": "ed98014c-9c5e-4058-b0b8-3a4307ba2da9",
   "metadata": {},
   "outputs": [
    {
     "data": {
      "text/html": [
       "<div>\n",
       "<style scoped>\n",
       "    .dataframe tbody tr th:only-of-type {\n",
       "        vertical-align: middle;\n",
       "    }\n",
       "\n",
       "    .dataframe tbody tr th {\n",
       "        vertical-align: top;\n",
       "    }\n",
       "\n",
       "    .dataframe thead th {\n",
       "        text-align: right;\n",
       "    }\n",
       "</style>\n",
       "<table border=\"1\" class=\"dataframe\">\n",
       "  <thead>\n",
       "    <tr style=\"text-align: right;\">\n",
       "      <th></th>\n",
       "      <th>product_id</th>\n",
       "      <th>product_name</th>\n",
       "      <th>aisle_id</th>\n",
       "      <th>department_id</th>\n",
       "      <th>prices</th>\n",
       "      <th>Unnamed: 0</th>\n",
       "      <th>order_id</th>\n",
       "      <th>user_id</th>\n",
       "      <th>order_number</th>\n",
       "      <th>orders_day_of_week</th>\n",
       "      <th>...</th>\n",
       "      <th>spender_flag</th>\n",
       "      <th>Customer_frequency</th>\n",
       "      <th>frequency_flag</th>\n",
       "      <th>gender</th>\n",
       "      <th>state</th>\n",
       "      <th>age</th>\n",
       "      <th>date_joined</th>\n",
       "      <th>n_dependants</th>\n",
       "      <th>marital_status</th>\n",
       "      <th>income</th>\n",
       "    </tr>\n",
       "  </thead>\n",
       "  <tbody>\n",
       "    <tr>\n",
       "      <th>0</th>\n",
       "      <td>1</td>\n",
       "      <td>Chocolate Sandwich Cookies</td>\n",
       "      <td>61</td>\n",
       "      <td>19</td>\n",
       "      <td>5.8</td>\n",
       "      <td>186194</td>\n",
       "      <td>682486</td>\n",
       "      <td>11243</td>\n",
       "      <td>16</td>\n",
       "      <td>3</td>\n",
       "      <td>...</td>\n",
       "      <td>Low_spender</td>\n",
       "      <td>6.0</td>\n",
       "      <td>Frequent Customer</td>\n",
       "      <td>Male</td>\n",
       "      <td>Nevada</td>\n",
       "      <td>67</td>\n",
       "      <td>1/26/2017</td>\n",
       "      <td>3</td>\n",
       "      <td>married</td>\n",
       "      <td>58329</td>\n",
       "    </tr>\n",
       "  </tbody>\n",
       "</table>\n",
       "<p>1 rows × 33 columns</p>\n",
       "</div>"
      ],
      "text/plain": [
       "   product_id                product_name  aisle_id  department_id  prices  \\\n",
       "0           1  Chocolate Sandwich Cookies        61             19     5.8   \n",
       "\n",
       "   Unnamed: 0 order_id user_id  order_number  orders_day_of_week  ...  \\\n",
       "0      186194   682486   11243            16                   3  ...   \n",
       "\n",
       "   spender_flag  Customer_frequency     frequency_flag  gender   state age  \\\n",
       "0   Low_spender                 6.0  Frequent Customer    Male  Nevada  67   \n",
       "\n",
       "  date_joined n_dependants marital_status income  \n",
       "0   1/26/2017            3        married  58329  \n",
       "\n",
       "[1 rows x 33 columns]"
      ]
     },
     "execution_count": 70,
     "metadata": {},
     "output_type": "execute_result"
    }
   ],
   "source": [
    "df_merged.head(1)"
   ]
  },
  {
   "cell_type": "markdown",
   "id": "679463f9-bed4-4da6-96aa-3a827a33006b",
   "metadata": {},
   "source": [
    "The data is now unpersonalised and therefore secure."
   ]
  },
  {
   "cell_type": "markdown",
   "id": "40e217ad-3f45-4df7-8f1b-590780279300",
   "metadata": {},
   "source": [
    "## 3. Customer behavior in different geographic areas"
   ]
  },
  {
   "cell_type": "code",
   "execution_count": 71,
   "id": "92adf71d-d7ad-4686-8d23-e6dc1a5df720",
   "metadata": {},
   "outputs": [],
   "source": [
    "# Creating a region column and grouping states Northeast\n",
    "df_merged.loc[df_merged['state'].isin(['Maine','New Hampshire','Vermont','Massachusetts','Rhode Island','Connecticut','New York','Pennsylvania',\n",
    "'New Jersey']),'region'] = 'Northeast'"
   ]
  },
  {
   "cell_type": "code",
   "execution_count": 72,
   "id": "e451ff3f-b750-4b86-872a-93907e00f101",
   "metadata": {},
   "outputs": [],
   "source": [
    "# Creating a region column and grouping states Midwest\n",
    "df_merged.loc[df_merged['state'].isin(['Wisconsin','Michigan','Illinois','Indiana','Ohio','North Dakota','South Dakota','Nebraska',\n",
    "'Kansas','Minnesota','Iowa','Missouri']),'region'] = 'Midwest'"
   ]
  },
  {
   "cell_type": "code",
   "execution_count": 73,
   "id": "93e17902-e917-4580-b7f0-39347ecb1372",
   "metadata": {},
   "outputs": [],
   "source": [
    "# Creating a region column and grouping states South\n",
    "df_merged.loc[df_merged['state'].isin(['Delaware','Maryland','District of Columbia','Virginia','West Virginia','North Carolina','South Carolina','Georgia',\n",
    "'Florida','Kentucky','Tennessee','Mississippi','Alabama','Oklahoma','Texas','Arkansas','Louisiana']),'region'] = 'South'"
   ]
  },
  {
   "cell_type": "code",
   "execution_count": 74,
   "id": "b8f188eb-dcd5-43a4-a417-80bdfc526069",
   "metadata": {},
   "outputs": [],
   "source": [
    "# Creating a region column and grouping states Mountain\n",
    "df_merged.loc[df_merged['state'].isin(['Idaho','Montana','Wyoming','Nevada','Utah','Colorado','Arizona','New Mexico',\n",
    "'Alaska','Washington','Oregon','California','Hawaii']),'region'] = 'Mountain'"
   ]
  },
  {
   "cell_type": "code",
   "execution_count": 75,
   "id": "70b4f700-934a-48c2-b2f2-6ef0b6f82b09",
   "metadata": {},
   "outputs": [
    {
     "data": {
      "text/plain": [
       "region\n",
       "South        65\n",
       "Mountain     37\n",
       "Northeast    30\n",
       "Midwest      26\n",
       "Name: count, dtype: int64"
      ]
     },
     "execution_count": 75,
     "metadata": {},
     "output_type": "execute_result"
    }
   ],
   "source": [
    "# Checking if all columns have been attributed a value\n",
    "df_merged['region'].value_counts(dropna= False)"
   ]
  },
  {
   "cell_type": "code",
   "execution_count": 76,
   "id": "a3e0077f-9e78-418a-9b3b-e9653a2e9ee0",
   "metadata": {},
   "outputs": [],
   "source": [
    "# Determining whether there is a difference in spending habits\n",
    "df_avg_spend = df_merged.groupby(['frequency_flag'])['prices'].mean()"
   ]
  },
  {
   "cell_type": "code",
   "execution_count": 77,
   "id": "5cb5eb25-f6f6-4b3f-aa9f-874f4dca1460",
   "metadata": {},
   "outputs": [
    {
     "data": {
      "text/plain": [
       "Text(0, 0.5, 'Avg per item')"
      ]
     },
     "execution_count": 77,
     "metadata": {},
     "output_type": "execute_result"
    },
    {
     "data": {
      "image/png": "[encoded data removed]",
      "text/plain": [
       "<Figure size 640x480 with 1 Axes>"
      ]
     },
     "metadata": {},
     "output_type": "display_data"
    }
   ],
   "source": [
    "bar_avg_spend = df_avg_spend.plot.bar()\n",
    "plt.title('Average spending habits per item by customer')\n",
    "plt.xlabel('Customer frequency')\n",
    "plt.ylabel('Avg per item')"
   ]
  },
  {
   "cell_type": "code",
   "execution_count": 78,
   "id": "cd6cb79a-b5ba-4ca0-b8cf-dc1bf12085b5",
   "metadata": {},
   "outputs": [
    {
     "data": {
      "text/html": [
       "<div>\n",
       "<style scoped>\n",
       "    .dataframe tbody tr th:only-of-type {\n",
       "        vertical-align: middle;\n",
       "    }\n",
       "\n",
       "    .dataframe tbody tr th {\n",
       "        vertical-align: top;\n",
       "    }\n",
       "\n",
       "    .dataframe thead th {\n",
       "        text-align: right;\n",
       "    }\n",
       "</style>\n",
       "<table border=\"1\" class=\"dataframe\">\n",
       "  <thead>\n",
       "    <tr style=\"text-align: right;\">\n",
       "      <th></th>\n",
       "      <th>region</th>\n",
       "      <th>prices</th>\n",
       "    </tr>\n",
       "  </thead>\n",
       "  <tbody>\n",
       "    <tr>\n",
       "      <th>0</th>\n",
       "      <td>Midwest</td>\n",
       "      <td>6.473077</td>\n",
       "    </tr>\n",
       "    <tr>\n",
       "      <th>1</th>\n",
       "      <td>Mountain</td>\n",
       "      <td>7.362162</td>\n",
       "    </tr>\n",
       "    <tr>\n",
       "      <th>2</th>\n",
       "      <td>Northeast</td>\n",
       "      <td>8.150000</td>\n",
       "    </tr>\n",
       "    <tr>\n",
       "      <th>3</th>\n",
       "      <td>South</td>\n",
       "      <td>6.655385</td>\n",
       "    </tr>\n",
       "  </tbody>\n",
       "</table>\n",
       "</div>"
      ],
      "text/plain": [
       "      region    prices\n",
       "0    Midwest  6.473077\n",
       "1   Mountain  7.362162\n",
       "2  Northeast  8.150000\n",
       "3      South  6.655385"
      ]
     },
     "execution_count": 78,
     "metadata": {},
     "output_type": "execute_result"
    }
   ],
   "source": [
    "# Determining whether there is a difference in spending habits between different regions\n",
    "df_spend_region = df_merged.groupby(['region'])['prices'].mean()\n",
    "df_spend_region.reset_index()"
   ]
  },
  {
   "cell_type": "code",
   "execution_count": 79,
   "id": "33bf37bf-27b7-49fa-b7e1-17a60c8667bf",
   "metadata": {},
   "outputs": [
    {
     "data": {
      "text/plain": [
       "Text(0.5, 0, 'Region')"
      ]
     },
     "execution_count": 79,
     "metadata": {},
     "output_type": "execute_result"
    },
    {
     "data": {
      "image/png": "[encoded data removed]",
      "text/plain": [
       "<Figure size 640x480 with 1 Axes>"
      ]
     },
     "metadata": {},
     "output_type": "display_data"
    }
   ],
   "source": [
    "bar_spend_region = df_spend_region.plot.bar(ylabel='avg.spend')\n",
    "plt.title('Regional Average Spending habits per item')\n",
    "plt.ylabel('Avg per item')\n",
    "plt.xlabel('Region')"
   ]
  },
  {
   "cell_type": "code",
   "execution_count": 80,
   "id": "78fc7b00-4a46-4e19-a38c-bcf809bb7d6d",
   "metadata": {},
   "outputs": [],
   "source": [
    "# Export the visualizations\n",
    "bar_spend_region.figure.savefig(os.path.join(path,'04 Analysis','Visualizations','bar_spend_region.png'))"
   ]
  },
  {
   "cell_type": "code",
   "execution_count": 81,
   "id": "357613dd-9571-46cf-ae08-f4f2d3fdf0e5",
   "metadata": {},
   "outputs": [],
   "source": [
    "bar_avg_spend.figure.savefig(os.path.join(path,'04 Analysis','Visualizations','bar_avg_spend.png'))"
   ]
  },
  {
   "cell_type": "markdown",
   "id": "42b063e0-35e9-41c6-835c-4a670b70e6e4",
   "metadata": {},
   "source": [
    "# 4. Exclude low-activity customers"
   ]
  },
  {
   "cell_type": "code",
   "execution_count": 82,
   "id": "8adfb67e-74b9-41cc-9333-b507e3754d8f",
   "metadata": {},
   "outputs": [],
   "source": [
    "# creating exclusion flag column\n",
    "df_merged.loc[df_merged['max_order']>=5, 'exclusion_flag'] = 'Not Excluded'\n",
    "df_merged.loc[df_merged['max_order']<5, 'exclusion_flag'] = 'Excluded'"
   ]
  },
  {
   "cell_type": "code",
   "execution_count": 83,
   "id": "d3eb479a-b2ee-44bd-ad4c-9d676f2317b2",
   "metadata": {},
   "outputs": [
    {
     "data": {
      "text/plain": [
       "exclusion_flag\n",
       "Not Excluded    154\n",
       "Excluded          4\n",
       "Name: count, dtype: int64"
      ]
     },
     "execution_count": 83,
     "metadata": {},
     "output_type": "execute_result"
    }
   ],
   "source": [
    "df_merged['exclusion_flag'].value_counts()"
   ]
  },
  {
   "cell_type": "code",
   "execution_count": 84,
   "id": "60f7eb8f-5c23-40f5-983b-d55e7db68397",
   "metadata": {},
   "outputs": [],
   "source": [
    "# Create data frame with only the excluded data\n",
    "df_merged_excluded = df_merged[df_merged['exclusion_flag']=='Excluded']"
   ]
  },
  {
   "cell_type": "code",
   "execution_count": 85,
   "id": "b80caecb-6d15-46a4-b81e-42d8aae630c5",
   "metadata": {},
   "outputs": [],
   "source": [
    "# Create data frame with only the not-excluded data\n",
    "df_merged_not_excluded =  df_merged[df_merged['exclusion_flag']=='Not Excluded']"
   ]
  },
  {
   "cell_type": "code",
   "execution_count": 86,
   "id": "be550019-3034-4457-ac90-f5f111186fc9",
   "metadata": {},
   "outputs": [
    {
     "data": {
      "text/plain": [
       "True"
      ]
     },
     "execution_count": 86,
     "metadata": {},
     "output_type": "execute_result"
    }
   ],
   "source": [
    "len(df_merged_excluded) + len (df_merged_not_excluded) == len(df_merged)"
   ]
  },
  {
   "cell_type": "code",
   "execution_count": 87,
   "id": "96a39f4f-5d8c-4c23-9991-7346bbc1724a",
   "metadata": {},
   "outputs": [],
   "source": [
    "# Export new data frame\n",
    "df_merged_not_excluded.to_pickle(os.path.join(path,'02 Data','Prepared Data','orders_products_not_excluded'))"
   ]
  },
  {
   "cell_type": "markdown",
   "id": "932be5f5-09dd-4387-9c69-5bfcb10ded2b",
   "metadata": {},
   "source": [
    "# 5. Customer profiling"
   ]
  },
  {
   "cell_type": "code",
   "execution_count": 88,
   "id": "970c626d-cd08-4325-8c79-6e9b16e11d89",
   "metadata": {},
   "outputs": [
    {
     "name": "stderr",
     "output_type": "stream",
     "text": [
      "C:\\Users\\Frederick\\AppData\\Local\\Temp\\ipykernel_10212\\2697743029.py:2: SettingWithCopyWarning: \n",
      "A value is trying to be set on a copy of a slice from a DataFrame.\n",
      "Try using .loc[row_indexer,col_indexer] = value instead\n",
      "\n",
      "See the caveats in the documentation: https://pandas.pydata.org/pandas-docs/stable/user_guide/indexing.html#returning-a-view-versus-a-copy\n",
      "  df_merged_not_excluded.loc[df_merged_not_excluded['income'] < 50000,'income_type'] = 'Low'\n"
     ]
    }
   ],
   "source": [
    "# Creating income categories\n",
    "df_merged_not_excluded.loc[df_merged_not_excluded['income'] < 50000,'income_type'] = 'Low'\n",
    "df_merged_not_excluded.loc[(df_merged_not_excluded['income'] >= 50000) & (df_merged_not_excluded['income']< 100000),'income_type'] = 'Middle'\n",
    "df_merged_not_excluded.loc[df_merged_not_excluded['income']>= 100000,'income_type'] = 'High'"
   ]
  },
  {
   "cell_type": "code",
   "execution_count": 89,
   "id": "c946924b-9e37-4464-bd8a-069e2e426aef",
   "metadata": {},
   "outputs": [
    {
     "name": "stderr",
     "output_type": "stream",
     "text": [
      "C:\\Users\\Frederick\\AppData\\Local\\Temp\\ipykernel_10212\\989960268.py:2: SettingWithCopyWarning: \n",
      "A value is trying to be set on a copy of a slice from a DataFrame.\n",
      "Try using .loc[row_indexer,col_indexer] = value instead\n",
      "\n",
      "See the caveats in the documentation: https://pandas.pydata.org/pandas-docs/stable/user_guide/indexing.html#returning-a-view-versus-a-copy\n",
      "  df_merged_not_excluded.loc[df_merged_not_excluded['age']< 40,'age_type'] = 'Young Adult'\n"
     ]
    }
   ],
   "source": [
    "# Creating age categories\n",
    "df_merged_not_excluded.loc[df_merged_not_excluded['age']< 40,'age_type'] = 'Young Adult'\n",
    "df_merged_not_excluded.loc[(df_merged_not_excluded['age'] >= 40) & (df_merged_not_excluded['age']< 65),'age_type'] = 'Middle Aged'\n",
    "df_merged_not_excluded.loc[df_merged_not_excluded['age']>= 65,'age_type'] = 'Senior'"
   ]
  },
  {
   "cell_type": "code",
   "execution_count": 90,
   "id": "6cc8e360-f971-410c-93e0-8700e6e7d0e9",
   "metadata": {},
   "outputs": [
    {
     "name": "stderr",
     "output_type": "stream",
     "text": [
      "C:\\Users\\Frederick\\AppData\\Local\\Temp\\ipykernel_10212\\2365163431.py:2: SettingWithCopyWarning: \n",
      "A value is trying to be set on a copy of a slice from a DataFrame.\n",
      "Try using .loc[row_indexer,col_indexer] = value instead\n",
      "\n",
      "See the caveats in the documentation: https://pandas.pydata.org/pandas-docs/stable/user_guide/indexing.html#returning-a-view-versus-a-copy\n",
      "  df_merged_not_excluded['dependant_type'] = 'No Dependants'\n"
     ]
    }
   ],
   "source": [
    "# Creating n_dependants categories\n",
    "df_merged_not_excluded['dependant_type'] = 'No Dependants'\n",
    "df_merged_not_excluded.loc[df_merged_not_excluded['n_dependants']> 0,'dependant_type'] = 'Has Dependants'"
   ]
  },
  {
   "cell_type": "markdown",
   "id": "fd3df9ed-cfa8-4c8c-bf31-7b556c0c32fa",
   "metadata": {},
   "source": [
    "# 6. Visualizations"
   ]
  },
  {
   "cell_type": "code",
   "execution_count": 105,
   "id": "b95a9c66-5f06-496b-92e8-89a6ba9bcac1",
   "metadata": {},
   "outputs": [
    {
     "data": {
      "text/plain": [
       "(-1.0999999988189388, 1.099999999943759, -1.09999998930065, 1.0999997784976414)"
      ]
     },
     "execution_count": 105,
     "metadata": {},
     "output_type": "execute_result"
    },
    {
     "data": {
      "image/png": "[encoded data removed]",
      "text/plain": [
       "<Figure size 800x600 with 1 Axes>"
      ]
     },
     "metadata": {},
     "output_type": "display_data"
    }
   ],
   "source": [
    "# Calculate percentage distribution of loyalty\n",
    "loyalty_distribution = (df_merged_not_excluded['loyalty_flag'].value_counts(normalize=True) * 100).sort_index()\n",
    "plt.figure(figsize=(8, 6))  # Set figure size\n",
    "loyalty_pie = plt.pie(loyalty_distribution, labels=loyalty_distribution.index, autopct='%1.1f%%', colors=['yellow', 'orange', 'pink'])\n",
    "plt.title('Loyalty Distribution', fontsize=14)\n",
    "plt.axis('equal')"
   ]
  },
  {
   "cell_type": "code",
   "execution_count": 118,
   "id": "6eb540ef-51a2-452e-ae16-c1cee046c87a",
   "metadata": {},
   "outputs": [
    {
     "ename": "AttributeError",
     "evalue": "'tuple' object has no attribute 'figure'",
     "output_type": "error",
     "traceback": [
      "\u001b[1;31m---------------------------------------------------------------------------\u001b[0m",
      "\u001b[1;31mAttributeError\u001b[0m                            Traceback (most recent call last)",
      "Cell \u001b[1;32mIn[118], line 1\u001b[0m\n\u001b[1;32m----> 1\u001b[0m loyalty_pie\u001b[38;5;241m.\u001b[39mfigure\u001b[38;5;241m.\u001b[39msavefig(os\u001b[38;5;241m.\u001b[39mpath\u001b[38;5;241m.\u001b[39mjoin(path,\u001b[38;5;124m'\u001b[39m\u001b[38;5;124m04 Analysis\u001b[39m\u001b[38;5;124m'\u001b[39m,\u001b[38;5;124m'\u001b[39m\u001b[38;5;124mVisualizations\u001b[39m\u001b[38;5;124m'\u001b[39m,\u001b[38;5;124m'\u001b[39m\u001b[38;5;124mpie_loyalty_changed.png\u001b[39m\u001b[38;5;124m'\u001b[39m))\n",
      "\u001b[1;31mAttributeError\u001b[0m: 'tuple' object has no attribute 'figure'"
     ]
    }
   ],
   "source": [
    "loyalty_pie.figure.savefig(os.path.join(path,'04 Analysis','Visualizations','pie_loyalty_changed.png'))"
   ]
  },
  {
   "cell_type": "code",
   "execution_count": 121,
   "id": "5f832cdb-291e-414e-8956-9b1cd569b8f3",
   "metadata": {},
   "outputs": [
    {
     "data": {
      "image/png": "[encoded data removed]",
      "text/plain": [
       "<Figure size 800x600 with 1 Axes>"
      ]
     },
     "metadata": {},
     "output_type": "display_data"
    }
   ],
   "source": [
    "# Calculate percentage distribution of loyalty\n",
    "loyalty_distribution = (df_merged_not_excluded['loyalty_flag'].value_counts(normalize=True) * 100).sort_index()\n",
    "\n",
    "# Create a figure and axis object\n",
    "fig, ax = plt.subplots(figsize=(8, 6))\n",
    "\n",
    "# Generate the pie chart on the specified axis\n",
    "ax.pie(loyalty_distribution, labels=loyalty_distribution.index, autopct='%1.1f%%', colors=['yellow', 'orange', 'pink'])\n",
    "\n",
    "# Set the title for the pie chart\n",
    "ax.set_title('Loyalty Distribution', fontsize=14)\n",
    "\n",
    "# Ensure the pie chart is a circle\n",
    "ax.axis('equal')\n",
    "\n",
    "plt.show()"
   ]
  },
  {
   "cell_type": "code",
   "execution_count": 122,
   "id": "7dbf53d4-6191-4438-8ff1-e20c8cd76e2a",
   "metadata": {},
   "outputs": [],
   "source": [
    "# Save the figure\n",
    "save_path = os.path.join(path, '04 Analysis', 'Visualizations', 'pie_loyalty_changed_changed.png')\n",
    "fig.savefig(save_path)"
   ]
  },
  {
   "cell_type": "code",
   "execution_count": 123,
   "id": "53301d3c-5c3d-4916-8fbf-ad1b374790c3",
   "metadata": {},
   "outputs": [],
   "source": [
    "# Close the figure\n",
    "plt.close(fig)"
   ]
  },
  {
   "cell_type": "markdown",
   "id": "ef3bd7ea-2c44-4d74-a94c-0b640f8f34da",
   "metadata": {},
   "source": [
    "# 7. Aggregate the max, mean, and min variables on a customer-profile level"
   ]
  },
  {
   "cell_type": "code",
   "execution_count": 93,
   "id": "c25a4212-f4ed-4241-a054-e6bbc5d019be",
   "metadata": {},
   "outputs": [
    {
     "name": "stderr",
     "output_type": "stream",
     "text": [
      "C:\\Users\\Frederick\\AppData\\Local\\Temp\\ipykernel_10212\\1705628768.py:1: FutureWarning: The provided callable <function sum at 0x000002640749AB60> is currently using SeriesGroupBy.sum. In a future version of pandas, the provided callable will be used directly. To keep current behavior pass the string \"sum\" instead.\n",
      "  df_merged_not_excluded['total_expenditure']= df_merged_not_excluded.groupby('user_id')['prices'].transform(np.sum)\n",
      "C:\\Users\\Frederick\\AppData\\Local\\Temp\\ipykernel_10212\\1705628768.py:1: SettingWithCopyWarning: \n",
      "A value is trying to be set on a copy of a slice from a DataFrame.\n",
      "Try using .loc[row_indexer,col_indexer] = value instead\n",
      "\n",
      "See the caveats in the documentation: https://pandas.pydata.org/pandas-docs/stable/user_guide/indexing.html#returning-a-view-versus-a-copy\n",
      "  df_merged_not_excluded['total_expenditure']= df_merged_not_excluded.groupby('user_id')['prices'].transform(np.sum)\n"
     ]
    }
   ],
   "source": [
    "df_merged_not_excluded['total_expenditure']= df_merged_not_excluded.groupby('user_id')['prices'].transform(np.sum)"
   ]
  },
  {
   "cell_type": "code",
   "execution_count": 94,
   "id": "f38fa101-4331-4394-baf1-44304a809e85",
   "metadata": {},
   "outputs": [
    {
     "ename": "NameError",
     "evalue": "name 'total_expenditure' is not defined",
     "output_type": "error",
     "traceback": [
      "\u001b[1;31m---------------------------------------------------------------------------\u001b[0m",
      "\u001b[1;31mNameError\u001b[0m                                 Traceback (most recent call last)",
      "Cell \u001b[1;32mIn[94], line 1\u001b[0m\n\u001b[1;32m----> 1\u001b[0m total_expenditure\n",
      "\u001b[1;31mNameError\u001b[0m: name 'total_expenditure' is not defined"
     ]
    }
   ],
   "source": [
    "total_expenditure"
   ]
  },
  {
   "cell_type": "code",
   "execution_count": 95,
   "id": "005cc676-ba15-4fb8-9bad-ccc3b0f7b35b",
   "metadata": {},
   "outputs": [
    {
     "data": {
      "text/html": [
       "<div>\n",
       "<style scoped>\n",
       "    .dataframe tbody tr th:only-of-type {\n",
       "        vertical-align: middle;\n",
       "    }\n",
       "\n",
       "    .dataframe tbody tr th {\n",
       "        vertical-align: top;\n",
       "    }\n",
       "\n",
       "    .dataframe thead tr th {\n",
       "        text-align: left;\n",
       "    }\n",
       "\n",
       "    .dataframe thead tr:last-of-type th {\n",
       "        text-align: right;\n",
       "    }\n",
       "</style>\n",
       "<table border=\"1\" class=\"dataframe\">\n",
       "  <thead>\n",
       "    <tr>\n",
       "      <th></th>\n",
       "      <th colspan=\"3\" halign=\"left\">total_expenditure</th>\n",
       "      <th colspan=\"3\" halign=\"left\">order_number</th>\n",
       "    </tr>\n",
       "    <tr>\n",
       "      <th></th>\n",
       "      <th>mean</th>\n",
       "      <th>min</th>\n",
       "      <th>max</th>\n",
       "      <th>mean</th>\n",
       "      <th>min</th>\n",
       "      <th>max</th>\n",
       "    </tr>\n",
       "    <tr>\n",
       "      <th>loyalty_flag</th>\n",
       "      <th></th>\n",
       "      <th></th>\n",
       "      <th></th>\n",
       "      <th></th>\n",
       "      <th></th>\n",
       "      <th></th>\n",
       "    </tr>\n",
       "  </thead>\n",
       "  <tbody>\n",
       "    <tr>\n",
       "      <th>Loyal customer</th>\n",
       "      <td>103.017647</td>\n",
       "      <td>2.2</td>\n",
       "      <td>168.0</td>\n",
       "      <td>32.411765</td>\n",
       "      <td>3</td>\n",
       "      <td>66</td>\n",
       "    </tr>\n",
       "    <tr>\n",
       "      <th>New customer</th>\n",
       "      <td>23.941176</td>\n",
       "      <td>5.8</td>\n",
       "      <td>52.5</td>\n",
       "      <td>4.235294</td>\n",
       "      <td>1</td>\n",
       "      <td>8</td>\n",
       "    </tr>\n",
       "    <tr>\n",
       "      <th>Regular customer</th>\n",
       "      <td>37.643689</td>\n",
       "      <td>2.2</td>\n",
       "      <td>75.6</td>\n",
       "      <td>10.475728</td>\n",
       "      <td>1</td>\n",
       "      <td>29</td>\n",
       "    </tr>\n",
       "  </tbody>\n",
       "</table>\n",
       "</div>"
      ],
      "text/plain": [
       "                 total_expenditure             order_number        \n",
       "                              mean  min    max         mean min max\n",
       "loyalty_flag                                                       \n",
       "Loyal customer          103.017647  2.2  168.0    32.411765   3  66\n",
       "New customer             23.941176  5.8   52.5     4.235294   1   8\n",
       "Regular customer         37.643689  2.2   75.6    10.475728   1  29"
      ]
     },
     "execution_count": 95,
     "metadata": {},
     "output_type": "execute_result"
    }
   ],
   "source": [
    "df_merged_not_excluded.groupby('loyalty_flag').agg({'total_expenditure': ['mean', 'min', 'max'], 'order_number': ['mean', 'min', 'max']})"
   ]
  },
  {
   "cell_type": "code",
   "execution_count": 96,
   "id": "863c4792-15d6-4187-b6a4-3484166f945b",
   "metadata": {},
   "outputs": [
    {
     "data": {
      "text/html": [
       "<div>\n",
       "<style scoped>\n",
       "    .dataframe tbody tr th:only-of-type {\n",
       "        vertical-align: middle;\n",
       "    }\n",
       "\n",
       "    .dataframe tbody tr th {\n",
       "        vertical-align: top;\n",
       "    }\n",
       "\n",
       "    .dataframe thead tr th {\n",
       "        text-align: left;\n",
       "    }\n",
       "\n",
       "    .dataframe thead tr:last-of-type th {\n",
       "        text-align: right;\n",
       "    }\n",
       "</style>\n",
       "<table border=\"1\" class=\"dataframe\">\n",
       "  <thead>\n",
       "    <tr>\n",
       "      <th></th>\n",
       "      <th colspan=\"3\" halign=\"left\">total_expenditure</th>\n",
       "      <th colspan=\"3\" halign=\"left\">order_number</th>\n",
       "    </tr>\n",
       "    <tr>\n",
       "      <th></th>\n",
       "      <th>mean</th>\n",
       "      <th>min</th>\n",
       "      <th>max</th>\n",
       "      <th>mean</th>\n",
       "      <th>min</th>\n",
       "      <th>max</th>\n",
       "    </tr>\n",
       "    <tr>\n",
       "      <th>income_type</th>\n",
       "      <th></th>\n",
       "      <th></th>\n",
       "      <th></th>\n",
       "      <th></th>\n",
       "      <th></th>\n",
       "      <th></th>\n",
       "    </tr>\n",
       "  </thead>\n",
       "  <tbody>\n",
       "    <tr>\n",
       "      <th>High</th>\n",
       "      <td>65.033333</td>\n",
       "      <td>2.2</td>\n",
       "      <td>168.0</td>\n",
       "      <td>16.743590</td>\n",
       "      <td>1</td>\n",
       "      <td>66</td>\n",
       "    </tr>\n",
       "    <tr>\n",
       "      <th>Low</th>\n",
       "      <td>31.415152</td>\n",
       "      <td>5.8</td>\n",
       "      <td>52.2</td>\n",
       "      <td>10.242424</td>\n",
       "      <td>1</td>\n",
       "      <td>29</td>\n",
       "    </tr>\n",
       "    <tr>\n",
       "      <th>Middle</th>\n",
       "      <td>39.013953</td>\n",
       "      <td>2.2</td>\n",
       "      <td>75.6</td>\n",
       "      <td>14.162791</td>\n",
       "      <td>1</td>\n",
       "      <td>52</td>\n",
       "    </tr>\n",
       "  </tbody>\n",
       "</table>\n",
       "</div>"
      ],
      "text/plain": [
       "            total_expenditure             order_number        \n",
       "                         mean  min    max         mean min max\n",
       "income_type                                                   \n",
       "High                65.033333  2.2  168.0    16.743590   1  66\n",
       "Low                 31.415152  5.8   52.2    10.242424   1  29\n",
       "Middle              39.013953  2.2   75.6    14.162791   1  52"
      ]
     },
     "execution_count": 96,
     "metadata": {},
     "output_type": "execute_result"
    }
   ],
   "source": [
    "df_merged_not_excluded.groupby('income_type').agg({'total_expenditure': ['mean', 'min', 'max'], 'order_number': ['mean', 'min', 'max']})"
   ]
  },
  {
   "cell_type": "code",
   "execution_count": 97,
   "id": "05947bf5-ec3a-4940-958d-0d7b9128814a",
   "metadata": {},
   "outputs": [
    {
     "data": {
      "text/html": [
       "<div>\n",
       "<style scoped>\n",
       "    .dataframe tbody tr th:only-of-type {\n",
       "        vertical-align: middle;\n",
       "    }\n",
       "\n",
       "    .dataframe tbody tr th {\n",
       "        vertical-align: top;\n",
       "    }\n",
       "\n",
       "    .dataframe thead tr th {\n",
       "        text-align: left;\n",
       "    }\n",
       "\n",
       "    .dataframe thead tr:last-of-type th {\n",
       "        text-align: right;\n",
       "    }\n",
       "</style>\n",
       "<table border=\"1\" class=\"dataframe\">\n",
       "  <thead>\n",
       "    <tr>\n",
       "      <th></th>\n",
       "      <th colspan=\"3\" halign=\"left\">total_expenditure</th>\n",
       "      <th colspan=\"3\" halign=\"left\">order_number</th>\n",
       "    </tr>\n",
       "    <tr>\n",
       "      <th></th>\n",
       "      <th>mean</th>\n",
       "      <th>min</th>\n",
       "      <th>max</th>\n",
       "      <th>mean</th>\n",
       "      <th>min</th>\n",
       "      <th>max</th>\n",
       "    </tr>\n",
       "    <tr>\n",
       "      <th>region</th>\n",
       "      <th></th>\n",
       "      <th></th>\n",
       "      <th></th>\n",
       "      <th></th>\n",
       "      <th></th>\n",
       "      <th></th>\n",
       "    </tr>\n",
       "  </thead>\n",
       "  <tbody>\n",
       "    <tr>\n",
       "      <th>Midwest</th>\n",
       "      <td>31.116000</td>\n",
       "      <td>5.8</td>\n",
       "      <td>49.0</td>\n",
       "      <td>13.040000</td>\n",
       "      <td>1</td>\n",
       "      <td>46</td>\n",
       "    </tr>\n",
       "    <tr>\n",
       "      <th>Mountain</th>\n",
       "      <td>43.402857</td>\n",
       "      <td>2.2</td>\n",
       "      <td>75.6</td>\n",
       "      <td>12.200000</td>\n",
       "      <td>1</td>\n",
       "      <td>39</td>\n",
       "    </tr>\n",
       "    <tr>\n",
       "      <th>Northeast</th>\n",
       "      <td>118.934483</td>\n",
       "      <td>4.5</td>\n",
       "      <td>168.0</td>\n",
       "      <td>29.310345</td>\n",
       "      <td>5</td>\n",
       "      <td>66</td>\n",
       "    </tr>\n",
       "    <tr>\n",
       "      <th>South</th>\n",
       "      <td>31.396923</td>\n",
       "      <td>2.2</td>\n",
       "      <td>67.2</td>\n",
       "      <td>10.000000</td>\n",
       "      <td>1</td>\n",
       "      <td>52</td>\n",
       "    </tr>\n",
       "  </tbody>\n",
       "</table>\n",
       "</div>"
      ],
      "text/plain": [
       "          total_expenditure             order_number        \n",
       "                       mean  min    max         mean min max\n",
       "region                                                      \n",
       "Midwest           31.116000  5.8   49.0    13.040000   1  46\n",
       "Mountain          43.402857  2.2   75.6    12.200000   1  39\n",
       "Northeast        118.934483  4.5  168.0    29.310345   5  66\n",
       "South             31.396923  2.2   67.2    10.000000   1  52"
      ]
     },
     "execution_count": 97,
     "metadata": {},
     "output_type": "execute_result"
    }
   ],
   "source": [
    "df_merged_not_excluded.groupby('region').agg({'total_expenditure': ['mean', 'min', 'max'], 'order_number': ['mean', 'min', 'max']})"
   ]
  },
  {
   "cell_type": "code",
   "execution_count": 98,
   "id": "a3368dd5-e9aa-409f-85ef-744b733102ee",
   "metadata": {},
   "outputs": [
    {
     "data": {
      "text/html": [
       "<div>\n",
       "<style scoped>\n",
       "    .dataframe tbody tr th:only-of-type {\n",
       "        vertical-align: middle;\n",
       "    }\n",
       "\n",
       "    .dataframe tbody tr th {\n",
       "        vertical-align: top;\n",
       "    }\n",
       "\n",
       "    .dataframe thead tr th {\n",
       "        text-align: left;\n",
       "    }\n",
       "\n",
       "    .dataframe thead tr:last-of-type th {\n",
       "        text-align: right;\n",
       "    }\n",
       "</style>\n",
       "<table border=\"1\" class=\"dataframe\">\n",
       "  <thead>\n",
       "    <tr>\n",
       "      <th></th>\n",
       "      <th colspan=\"3\" halign=\"left\">total_expenditure</th>\n",
       "      <th colspan=\"3\" halign=\"left\">order_number</th>\n",
       "    </tr>\n",
       "    <tr>\n",
       "      <th></th>\n",
       "      <th>mean</th>\n",
       "      <th>min</th>\n",
       "      <th>max</th>\n",
       "      <th>mean</th>\n",
       "      <th>min</th>\n",
       "      <th>max</th>\n",
       "    </tr>\n",
       "    <tr>\n",
       "      <th>dependant_type</th>\n",
       "      <th></th>\n",
       "      <th></th>\n",
       "      <th></th>\n",
       "      <th></th>\n",
       "      <th></th>\n",
       "      <th></th>\n",
       "    </tr>\n",
       "  </thead>\n",
       "  <tbody>\n",
       "    <tr>\n",
       "      <th>Has Dependants</th>\n",
       "      <td>55.016667</td>\n",
       "      <td>2.2</td>\n",
       "      <td>168.0</td>\n",
       "      <td>15.195652</td>\n",
       "      <td>1</td>\n",
       "      <td>66</td>\n",
       "    </tr>\n",
       "    <tr>\n",
       "      <th>No Dependants</th>\n",
       "      <td>12.162500</td>\n",
       "      <td>2.2</td>\n",
       "      <td>31.5</td>\n",
       "      <td>9.750000</td>\n",
       "      <td>1</td>\n",
       "      <td>46</td>\n",
       "    </tr>\n",
       "  </tbody>\n",
       "</table>\n",
       "</div>"
      ],
      "text/plain": [
       "               total_expenditure             order_number        \n",
       "                            mean  min    max         mean min max\n",
       "dependant_type                                                   \n",
       "Has Dependants         55.016667  2.2  168.0    15.195652   1  66\n",
       "No Dependants          12.162500  2.2   31.5     9.750000   1  46"
      ]
     },
     "execution_count": 98,
     "metadata": {},
     "output_type": "execute_result"
    }
   ],
   "source": [
    "df_merged_not_excluded.groupby('dependant_type').agg({'total_expenditure': ['mean', 'min', 'max'], 'order_number': ['mean', 'min', 'max']})"
   ]
  },
  {
   "cell_type": "markdown",
   "id": "907e8b45-5cb2-42ff-84d9-e6848554ce46",
   "metadata": {},
   "source": [
    "# 8. Compare customer profiles with regions and departments"
   ]
  },
  {
   "cell_type": "code",
   "execution_count": 99,
   "id": "c06e2dea-9d81-4ea5-8344-74b3b2827bee",
   "metadata": {},
   "outputs": [
    {
     "name": "stderr",
     "output_type": "stream",
     "text": [
      "C:\\Users\\Frederick\\anaconda3\\Lib\\site-packages\\seaborn\\_oldcore.py:1119: FutureWarning: use_inf_as_na option is deprecated and will be removed in a future version. Convert inf values to NaN before operating instead.\n",
      "  with pd.option_context('mode.use_inf_as_na', True):\n"
     ]
    },
    {
     "data": {
      "text/plain": [
       "Text(0.5, 0, 'Count')"
      ]
     },
     "execution_count": 99,
     "metadata": {},
     "output_type": "execute_result"
    },
    {
     "data": {
      "image/png": "[encoded data removed]",
      "text/plain": [
       "<Figure size 640x480 with 1 Axes>"
      ]
     },
     "metadata": {},
     "output_type": "display_data"
    }
   ],
   "source": [
    "# Plotting histogram of customer type by region\n",
    "sns.histplot(data=df_merged_not_excluded,y='n_dependants',hue='region',multiple='dodge',shrink=.8)\n",
    "plt.title('Customer profile by regions')\n",
    "plt.ylabel('Customer profile')\n",
    "plt.xlabel('Count')"
   ]
  },
  {
   "cell_type": "code",
   "execution_count": 100,
   "id": "76ffcc97-3a4e-423e-aef9-a7bcb5aa1e84",
   "metadata": {},
   "outputs": [
    {
     "data": {
      "text/plain": [
       "<Figure size 640x480 with 0 Axes>"
      ]
     },
     "metadata": {},
     "output_type": "display_data"
    }
   ],
   "source": [
    "# Export histogram\n",
    "plt.savefig(os.path.join(path,'04 Analysis','Visualizations','Customer_profile_by_region_bar.png'))"
   ]
  },
  {
   "cell_type": "code",
   "execution_count": 101,
   "id": "b4222f79-724f-41b7-ac44-0dae2f63bbf7",
   "metadata": {},
   "outputs": [
    {
     "name": "stderr",
     "output_type": "stream",
     "text": [
      "C:\\Users\\Frederick\\anaconda3\\Lib\\site-packages\\seaborn\\_oldcore.py:1119: FutureWarning: use_inf_as_na option is deprecated and will be removed in a future version. Convert inf values to NaN before operating instead.\n",
      "  with pd.option_context('mode.use_inf_as_na', True):\n"
     ]
    },
    {
     "data": {
      "text/plain": [
       "Text(0.5, 0, 'Count')"
      ]
     },
     "execution_count": 101,
     "metadata": {},
     "output_type": "execute_result"
    },
    {
     "data": {
      "image/png": "[encoded data removed]",
      "text/plain": [
       "<Figure size 640x480 with 1 Axes>"
      ]
     },
     "metadata": {},
     "output_type": "display_data"
    }
   ],
   "source": [
    "# Plotting histogram of customer type by region\n",
    "sns.histplot(data=df_merged_not_excluded,y='income',hue='region')\n",
    "plt.title('Customer profile by regions')\n",
    "plt.ylabel('Customer profile')\n",
    "plt.xlabel('Count')"
   ]
  },
  {
   "cell_type": "code",
   "execution_count": 102,
   "id": "3753e89e-0822-4b37-a218-3db1131cde93",
   "metadata": {},
   "outputs": [
    {
     "data": {
      "text/plain": [
       "<Figure size 640x480 with 0 Axes>"
      ]
     },
     "metadata": {},
     "output_type": "display_data"
    }
   ],
   "source": [
    "# Export histogram\n",
    "plt.savefig(os.path.join(path,'04 Analysis','Visualizations','Customer_profile_income_by_region_bar.png'))"
   ]
  },
  {
   "cell_type": "markdown",
   "id": "8d92addb-8f89-4671-83b2-acc3663d85b4",
   "metadata": {},
   "source": [
    "# 9. Export"
   ]
  },
  {
   "cell_type": "code",
   "execution_count": 103,
   "id": "7fe2c991-dbb8-40f4-821b-9f54227a37e7",
   "metadata": {},
   "outputs": [],
   "source": [
    "df_merged_not_excluded.to_pickle(os.path.join(path,'02 Data','Prepared Data','4_10_final_data'))"
   ]
  },
  {
   "cell_type": "code",
   "execution_count": null,
   "id": "ead9151c-e082-4dc7-8546-adeb48fd4551",
   "metadata": {},
   "outputs": [],
   "source": []
  }
 ],
 "metadata": {
  "kernelspec": {
   "display_name": "Python 3 (ipykernel)",
   "language": "python",
   "name": "python3"
  },
  "language_info": {
   "codemirror_mode": {
    "name": "ipython",
    "version": 3
   },
   "file_extension": ".py",
   "mimetype": "text/x-python",
   "name": "python",
   "nbconvert_exporter": "python",
   "pygments_lexer": "ipython3",
   "version": "3.11.7"
  }
 },
 "nbformat": 4,
 "nbformat_minor": 5
}
