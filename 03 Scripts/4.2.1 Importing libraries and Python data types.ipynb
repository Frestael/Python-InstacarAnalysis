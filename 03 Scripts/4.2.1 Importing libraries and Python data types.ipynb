{
 "cells": [
  {
   "cell_type": "markdown",
   "id": "bacf7947-e917-4ec1-b0d6-f3f482049c40",
   "metadata": {},
   "source": [
    "### This script contains the following points:\n",
    "\n",
    "#### 1. Importing Libraries\n",
    "#### 2. Data types"
   ]
  },
  {
   "cell_type": "markdown",
   "id": "cd0adfcf-f750-44af-8360-6d4ce243ff5e",
   "metadata": {},
   "source": [
    "# 01. Importing Libraries"
   ]
  },
  {
   "cell_type": "code",
   "execution_count": 1,
   "id": "d92387c7-5884-4bca-9ffc-ab058cef8057",
   "metadata": {},
   "outputs": [],
   "source": [
    "# Import libraries\n",
    "import pandas as pd\n",
    "import numpy as np\n",
    "import os"
   ]
  },
  {
   "cell_type": "markdown",
   "id": "3bac8136-b33d-4518-9991-fb0f18585e91",
   "metadata": {},
   "source": [
    "# 02. Data Types"
   ]
  },
  {
   "cell_type": "code",
   "execution_count": 2,
   "id": "228926a7-7ccb-4f1a-aa45-0663cb4edc65",
   "metadata": {},
   "outputs": [],
   "source": [
    "x = 2"
   ]
  },
  {
   "cell_type": "code",
   "execution_count": 3,
   "id": "51729813-d3eb-474e-8b96-59028f6f92c9",
   "metadata": {},
   "outputs": [
    {
     "data": {
      "text/plain": [
       "2"
      ]
     },
     "execution_count": 3,
     "metadata": {},
     "output_type": "execute_result"
    }
   ],
   "source": [
    "x"
   ]
  },
  {
   "cell_type": "code",
   "execution_count": 4,
   "id": "d7bf41d7-2fd3-4bde-b81c-5615f959f9a5",
   "metadata": {},
   "outputs": [
    {
     "name": "stdout",
     "output_type": "stream",
     "text": [
      "2\n"
     ]
    }
   ],
   "source": [
    "print(x)"
   ]
  },
  {
   "cell_type": "code",
   "execution_count": 5,
   "id": "fd19365d-5cd9-41a4-9332-03c052f012b0",
   "metadata": {},
   "outputs": [
    {
     "data": {
      "text/plain": [
       "int"
      ]
     },
     "execution_count": 5,
     "metadata": {},
     "output_type": "execute_result"
    }
   ],
   "source": [
    "type(x)"
   ]
  },
  {
   "cell_type": "code",
   "execution_count": 6,
   "id": "19b3ac28-2c52-4122-b3f2-f50a52721a6c",
   "metadata": {},
   "outputs": [],
   "source": [
    "y = 5.678"
   ]
  },
  {
   "cell_type": "code",
   "execution_count": 7,
   "id": "c2b39274-6267-4b77-865e-2898bcc18666",
   "metadata": {},
   "outputs": [
    {
     "data": {
      "text/plain": [
       "float"
      ]
     },
     "execution_count": 7,
     "metadata": {},
     "output_type": "execute_result"
    }
   ],
   "source": [
    "type(y)"
   ]
  },
  {
   "cell_type": "code",
   "execution_count": 8,
   "id": "c30b99c3-4669-4cad-935e-a611f4c92e9d",
   "metadata": {},
   "outputs": [],
   "source": [
    "z = 'Brazil'"
   ]
  },
  {
   "cell_type": "code",
   "execution_count": 9,
   "id": "16690558-f049-4605-bc31-22d3808814d3",
   "metadata": {},
   "outputs": [
    {
     "data": {
      "text/plain": [
       "str"
      ]
     },
     "execution_count": 9,
     "metadata": {},
     "output_type": "execute_result"
    }
   ],
   "source": [
    "type(z)"
   ]
  },
  {
   "cell_type": "code",
   "execution_count": 10,
   "id": "906d3d7a-2439-4b7f-a595-7db5d50e558f",
   "metadata": {},
   "outputs": [
    {
     "data": {
      "text/plain": [
       "str"
      ]
     },
     "execution_count": 10,
     "metadata": {},
     "output_type": "execute_result"
    }
   ],
   "source": [
    "type('Mania')"
   ]
  },
  {
   "cell_type": "code",
   "execution_count": 11,
   "id": "217cc59b-4083-4836-84ed-481fd8a220a7",
   "metadata": {},
   "outputs": [
    {
     "data": {
      "text/plain": [
       "bool"
      ]
     },
     "execution_count": 11,
     "metadata": {},
     "output_type": "execute_result"
    }
   ],
   "source": [
    "type(True)"
   ]
  },
  {
   "cell_type": "code",
   "execution_count": 12,
   "id": "66e70e02-e0c9-4918-93d0-2f780c9baa07",
   "metadata": {},
   "outputs": [
    {
     "data": {
      "text/plain": [
       "bool"
      ]
     },
     "execution_count": 12,
     "metadata": {},
     "output_type": "execute_result"
    }
   ],
   "source": [
    "type(False)"
   ]
  },
  {
   "cell_type": "code",
   "execution_count": 13,
   "id": "83c80248-1e65-47b9-a914-993de9bc69c1",
   "metadata": {},
   "outputs": [
    {
     "name": "stdout",
     "output_type": "stream",
     "text": [
      "2\n"
     ]
    }
   ],
   "source": [
    "print(x)"
   ]
  },
  {
   "cell_type": "code",
   "execution_count": 14,
   "id": "b9d63dfe-6bee-45a1-bc43-dcca5ccf0b42",
   "metadata": {},
   "outputs": [
    {
     "data": {
      "text/plain": [
       "6"
      ]
     },
     "execution_count": 14,
     "metadata": {},
     "output_type": "execute_result"
    }
   ],
   "source": [
    "x + 4"
   ]
  },
  {
   "cell_type": "code",
   "execution_count": 15,
   "id": "924fb59a-47ee-40aa-a061-5787645370d3",
   "metadata": {},
   "outputs": [],
   "source": [
    "x = x + 4"
   ]
  },
  {
   "cell_type": "code",
   "execution_count": 16,
   "id": "38dfe259-c0ba-4f08-9cfe-e96a23eed8c9",
   "metadata": {},
   "outputs": [
    {
     "name": "stdout",
     "output_type": "stream",
     "text": [
      "6\n"
     ]
    }
   ],
   "source": [
    "print(x)"
   ]
  },
  {
   "cell_type": "code",
   "execution_count": 17,
   "id": "725dd50c-383b-47c7-9368-0a6a822bb967",
   "metadata": {},
   "outputs": [],
   "source": [
    "a = 'Hello, '"
   ]
  },
  {
   "cell_type": "code",
   "execution_count": 18,
   "id": "05b3c2cc-5c77-44d2-b514-3a21b38c1a7b",
   "metadata": {},
   "outputs": [],
   "source": [
    "b = 'Marley'"
   ]
  },
  {
   "cell_type": "code",
   "execution_count": 19,
   "id": "785d64d6-58c1-4f04-bdb2-2f45708ae0af",
   "metadata": {},
   "outputs": [
    {
     "data": {
      "text/plain": [
       "'Hello, Marley'"
      ]
     },
     "execution_count": 19,
     "metadata": {},
     "output_type": "execute_result"
    }
   ],
   "source": [
    "a + b"
   ]
  },
  {
   "cell_type": "code",
   "execution_count": 20,
   "id": "167d502d-3019-408b-ace8-c0b19005964b",
   "metadata": {},
   "outputs": [],
   "source": [
    "n = 'Potato'"
   ]
  },
  {
   "cell_type": "code",
   "execution_count": 21,
   "id": "6f3e72fd-0310-4d73-95bf-b7f26f1fd7a1",
   "metadata": {},
   "outputs": [
    {
     "data": {
      "text/plain": [
       "'PotatoPotatoPotatoPotatoPotatoPotatoPotatoPotatoPotatoPotatoPotatoPotato'"
      ]
     },
     "execution_count": 21,
     "metadata": {},
     "output_type": "execute_result"
    }
   ],
   "source": [
    "n * 12"
   ]
  },
  {
   "cell_type": "code",
   "execution_count": 22,
   "id": "a5afcb64-73ac-48f0-a833-3b610b111c52",
   "metadata": {},
   "outputs": [
    {
     "data": {
      "text/plain": [
       "False"
      ]
     },
     "execution_count": 22,
     "metadata": {},
     "output_type": "execute_result"
    }
   ],
   "source": [
    "x == y"
   ]
  },
  {
   "cell_type": "code",
   "execution_count": 23,
   "id": "f85eaa73-8829-4c5e-9a5b-9a06c536a644",
   "metadata": {},
   "outputs": [
    {
     "data": {
      "text/plain": [
       "bool"
      ]
     },
     "execution_count": 23,
     "metadata": {},
     "output_type": "execute_result"
    }
   ],
   "source": [
    "type(x==y)"
   ]
  },
  {
   "cell_type": "markdown",
   "id": "241c5157-d459-42c8-b2a5-6f2b67f3aa81",
   "metadata": {},
   "source": [
    "# 02.1 Task Data Types"
   ]
  },
  {
   "cell_type": "code",
   "execution_count": 24,
   "id": "2997603c-4fd7-4dcf-851e-a6080d010560",
   "metadata": {},
   "outputs": [],
   "source": [
    "x = 20"
   ]
  },
  {
   "cell_type": "code",
   "execution_count": 25,
   "id": "8bc7d06e-2895-487f-82f9-496d94043f18",
   "metadata": {},
   "outputs": [],
   "source": [
    "y = 80"
   ]
  },
  {
   "cell_type": "code",
   "execution_count": 26,
   "id": "b66e2112-42d3-40fd-8100-f19ceb910199",
   "metadata": {},
   "outputs": [],
   "source": [
    "z = 120"
   ]
  },
  {
   "cell_type": "code",
   "execution_count": 27,
   "id": "0da1377d-bfd4-458b-820d-c04cabcf0353",
   "metadata": {},
   "outputs": [],
   "source": [
    "q = 60"
   ]
  },
  {
   "cell_type": "code",
   "execution_count": 28,
   "id": "f9edee86-e9fb-4009-b2f1-844bd13e0075",
   "metadata": {},
   "outputs": [
    {
     "data": {
      "text/plain": [
       "100"
      ]
     },
     "execution_count": 28,
     "metadata": {},
     "output_type": "execute_result"
    }
   ],
   "source": [
    "x + y"
   ]
  },
  {
   "cell_type": "code",
   "execution_count": 29,
   "id": "d2bcc022-6a7d-4fb9-9f70-1e839c41385a",
   "metadata": {},
   "outputs": [
    {
     "data": {
      "text/plain": [
       "100"
      ]
     },
     "execution_count": 29,
     "metadata": {},
     "output_type": "execute_result"
    }
   ],
   "source": [
    "z - x"
   ]
  },
  {
   "cell_type": "code",
   "execution_count": 30,
   "id": "e71eb066-cbf0-4f9f-9956-21f1b1192a57",
   "metadata": {},
   "outputs": [
    {
     "data": {
      "text/plain": [
       "100"
      ]
     },
     "execution_count": 30,
     "metadata": {},
     "output_type": "execute_result"
    }
   ],
   "source": [
    "z - y + q"
   ]
  },
  {
   "cell_type": "code",
   "execution_count": 31,
   "id": "7a71eb69-38af-4b0a-8bee-b37c907a176d",
   "metadata": {},
   "outputs": [],
   "source": [
    "d = 6.4466"
   ]
  },
  {
   "cell_type": "code",
   "execution_count": 32,
   "id": "f2e2848b-2f36-46b9-b2f8-41ecc9f64f5f",
   "metadata": {},
   "outputs": [],
   "source": [
    "e = 3.2233"
   ]
  },
  {
   "cell_type": "code",
   "execution_count": 33,
   "id": "7de31324-0080-478b-8e17-ea62a645d3ee",
   "metadata": {},
   "outputs": [
    {
     "data": {
      "text/plain": [
       "2.0"
      ]
     },
     "execution_count": 33,
     "metadata": {},
     "output_type": "execute_result"
    }
   ],
   "source": [
    "d / e"
   ]
  },
  {
   "cell_type": "code",
   "execution_count": 34,
   "id": "f91186c8-949d-41cf-9eff-dd327e6fb983",
   "metadata": {},
   "outputs": [],
   "source": [
    "f = 'Career'"
   ]
  },
  {
   "cell_type": "code",
   "execution_count": 35,
   "id": "77d581df-c6b6-40a1-933d-b0fcafa66345",
   "metadata": {},
   "outputs": [],
   "source": [
    "g = 'Foundry'"
   ]
  },
  {
   "cell_type": "code",
   "execution_count": 36,
   "id": "bb862f9b-f022-4045-8a26-19ce891de7b8",
   "metadata": {},
   "outputs": [
    {
     "data": {
      "text/plain": [
       "'CareerFoundry'"
      ]
     },
     "execution_count": 36,
     "metadata": {},
     "output_type": "execute_result"
    }
   ],
   "source": [
    "f + g"
   ]
  },
  {
   "cell_type": "code",
   "execution_count": 37,
   "id": "36da00a6-96e6-432d-a22a-2a0737d68d36",
   "metadata": {},
   "outputs": [],
   "source": [
    "i = 'I finished '"
   ]
  },
  {
   "cell_type": "code",
   "execution_count": 38,
   "id": "5f216ec6-4c82-48b2-8c1b-dfcc6aabb6dd",
   "metadata": {},
   "outputs": [],
   "source": [
    "j = 'this task.'"
   ]
  },
  {
   "cell_type": "code",
   "execution_count": 39,
   "id": "d0df6223-cb32-4015-b4ab-b24372d9e1d1",
   "metadata": {},
   "outputs": [
    {
     "data": {
      "text/plain": [
       "'I finished this task.'"
      ]
     },
     "execution_count": 39,
     "metadata": {},
     "output_type": "execute_result"
    }
   ],
   "source": [
    "i + j"
   ]
  },
  {
   "cell_type": "code",
   "execution_count": 40,
   "id": "aadac51d-de21-4f40-8ece-9fefed921c2e",
   "metadata": {},
   "outputs": [],
   "source": [
    "l = 'Thank you '"
   ]
  },
  {
   "cell_type": "code",
   "execution_count": 41,
   "id": "ec06fe0f-2a52-420f-accc-35fda3811764",
   "metadata": {},
   "outputs": [],
   "source": [
    "k = 'and see you later.'"
   ]
  },
  {
   "cell_type": "code",
   "execution_count": 42,
   "id": "a45b2243-7b9e-49ee-91b5-c8dbff20e5eb",
   "metadata": {},
   "outputs": [
    {
     "data": {
      "text/plain": [
       "'Thank you and see you later.'"
      ]
     },
     "execution_count": 42,
     "metadata": {},
     "output_type": "execute_result"
    }
   ],
   "source": [
    "l + k"
   ]
  },
  {
   "cell_type": "code",
   "execution_count": null,
   "id": "d9bdb698-fc51-4d89-a288-7dc0f3046e36",
   "metadata": {},
   "outputs": [],
   "source": []
  }
 ],
 "metadata": {
  "kernelspec": {
   "display_name": "Python 3 (ipykernel)",
   "language": "python",
   "name": "python3"
  },
  "language_info": {
   "codemirror_mode": {
    "name": "ipython",
    "version": 3
   },
   "file_extension": ".py",
   "mimetype": "text/x-python",
   "name": "python",
   "nbconvert_exporter": "python",
   "pygments_lexer": "ipython3",
   "version": "3.11.7"
  }
 },
 "nbformat": 4,
 "nbformat_minor": 5
}
